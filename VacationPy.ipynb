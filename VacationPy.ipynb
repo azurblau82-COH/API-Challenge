{
 "cells": [
  {
   "cell_type": "markdown",
   "metadata": {},
   "source": [
    "# VacationPy\n",
    "----\n",
    "\n",
    "#### Note\n",
    "* Keep an eye on your API usage. Use https://developers.google.com/maps/reporting/gmp-reporting as reference for how to monitor your usage and billing.\n",
    "\n",
    "* Instructions have been included for each segment. You do not have to follow them exactly, but they are included to help you think through the steps."
   ]
  },
  {
   "cell_type": "code",
   "execution_count": 1,
   "metadata": {},
   "outputs": [],
   "source": [
    "# Dependencies and Setup\n",
    "import matplotlib.pyplot as plt\n",
    "import pandas as pd\n",
    "import numpy as np\n",
    "import requests\n",
    "import gmaps\n",
    "import os\n",
    "from pprint import pprint\n",
    "\n",
    "# Import API key\n",
    "from api_keys import g_key"
   ]
  },
  {
   "cell_type": "markdown",
   "metadata": {},
   "source": [
    "### Store Part I results into DataFrame\n",
    "* Load the csv exported in Part I to a DataFrame"
   ]
  },
  {
   "cell_type": "code",
   "execution_count": 2,
   "metadata": {},
   "outputs": [
    {
     "data": {
      "text/html": [
       "<div>\n",
       "<style scoped>\n",
       "    .dataframe tbody tr th:only-of-type {\n",
       "        vertical-align: middle;\n",
       "    }\n",
       "\n",
       "    .dataframe tbody tr th {\n",
       "        vertical-align: top;\n",
       "    }\n",
       "\n",
       "    .dataframe thead th {\n",
       "        text-align: right;\n",
       "    }\n",
       "</style>\n",
       "<table border=\"1\" class=\"dataframe\">\n",
       "  <thead>\n",
       "    <tr style=\"text-align: right;\">\n",
       "      <th></th>\n",
       "      <th>Lat</th>\n",
       "      <th>Lng</th>\n",
       "      <th>City Name</th>\n",
       "      <th>Country Code</th>\n",
       "      <th>Temp</th>\n",
       "      <th>Humidity</th>\n",
       "      <th>Clouds</th>\n",
       "      <th>Wind</th>\n",
       "      <th>Date</th>\n",
       "    </tr>\n",
       "  </thead>\n",
       "  <tbody>\n",
       "    <tr>\n",
       "      <th>1</th>\n",
       "      <td>-54.80</td>\n",
       "      <td>-68.30</td>\n",
       "      <td>ushuaia</td>\n",
       "      <td>ar</td>\n",
       "      <td>46.40</td>\n",
       "      <td>49.0</td>\n",
       "      <td>75.0</td>\n",
       "      <td>4.70</td>\n",
       "      <td>1.601248e+09</td>\n",
       "    </tr>\n",
       "    <tr>\n",
       "      <th>2</th>\n",
       "      <td>64.89</td>\n",
       "      <td>-23.71</td>\n",
       "      <td>olafsvik</td>\n",
       "      <td>is</td>\n",
       "      <td>44.83</td>\n",
       "      <td>83.0</td>\n",
       "      <td>29.0</td>\n",
       "      <td>9.37</td>\n",
       "      <td>1.601248e+09</td>\n",
       "    </tr>\n",
       "    <tr>\n",
       "      <th>3</th>\n",
       "      <td>-22.97</td>\n",
       "      <td>-42.03</td>\n",
       "      <td>arraial do cabo</td>\n",
       "      <td>br</td>\n",
       "      <td>77.00</td>\n",
       "      <td>78.0</td>\n",
       "      <td>0.0</td>\n",
       "      <td>13.87</td>\n",
       "      <td>1.601247e+09</td>\n",
       "    </tr>\n",
       "    <tr>\n",
       "      <th>4</th>\n",
       "      <td>1.74</td>\n",
       "      <td>98.78</td>\n",
       "      <td>sibolga</td>\n",
       "      <td>id</td>\n",
       "      <td>76.24</td>\n",
       "      <td>71.0</td>\n",
       "      <td>99.0</td>\n",
       "      <td>2.89</td>\n",
       "      <td>1.601248e+09</td>\n",
       "    </tr>\n",
       "    <tr>\n",
       "      <th>5</th>\n",
       "      <td>25.93</td>\n",
       "      <td>81.98</td>\n",
       "      <td>bela</td>\n",
       "      <td>pk</td>\n",
       "      <td>78.19</td>\n",
       "      <td>71.0</td>\n",
       "      <td>0.0</td>\n",
       "      <td>1.88</td>\n",
       "      <td>1.601248e+09</td>\n",
       "    </tr>\n",
       "  </tbody>\n",
       "</table>\n",
       "</div>"
      ],
      "text/plain": [
       "     Lat    Lng        City Name Country Code   Temp  Humidity  Clouds   Wind  \\\n",
       "1 -54.80 -68.30          ushuaia           ar  46.40      49.0    75.0   4.70   \n",
       "2  64.89 -23.71         olafsvik           is  44.83      83.0    29.0   9.37   \n",
       "3 -22.97 -42.03  arraial do cabo           br  77.00      78.0     0.0  13.87   \n",
       "4   1.74  98.78          sibolga           id  76.24      71.0    99.0   2.89   \n",
       "5  25.93  81.98             bela           pk  78.19      71.0     0.0   1.88   \n",
       "\n",
       "           Date  \n",
       "1  1.601248e+09  \n",
       "2  1.601248e+09  \n",
       "3  1.601247e+09  \n",
       "4  1.601248e+09  \n",
       "5  1.601248e+09  "
      ]
     },
     "execution_count": 2,
     "metadata": {},
     "output_type": "execute_result"
    }
   ],
   "source": [
    "file = '../output_data/citylist.csv'\n",
    "citylist = pd.read_csv(file)\n",
    "citylist_clean = citylist.dropna()\n",
    "citylist_clean.head()\n"
   ]
  },
  {
   "cell_type": "markdown",
   "metadata": {},
   "source": [
    "### Humidity Heatmap\n",
    "* Configure gmaps.\n",
    "* Use the Lat and Lng as locations and Humidity as the weight.\n",
    "* Add Heatmap layer to map."
   ]
  },
  {
   "cell_type": "code",
   "execution_count": 3,
   "metadata": {},
   "outputs": [
    {
     "data": {
      "application/vnd.jupyter.widget-view+json": {
       "model_id": "59f517c25b594b198a02c943a3a93388",
       "version_major": 2,
       "version_minor": 0
      },
      "text/plain": [
       "Figure(layout=FigureLayout(height='420px'))"
      ]
     },
     "metadata": {},
     "output_type": "display_data"
    }
   ],
   "source": [
    "locations = citylist_clean[['Lat', 'Lng']]\n",
    "\n",
    "humidity = citylist_clean['Humidity']\n",
    "\n",
    "gmaps.configure(api_key=g_key)\n",
    "# Plot Heatmap\n",
    "fig = gmaps.figure()\n",
    "\n",
    "# Create heat layer\n",
    "heat_layer = gmaps.heatmap_layer(locations, weights=humidity, point_radius=20)\n",
    "                                \n",
    "\n",
    "\n",
    "# Add layer\n",
    "fig.add_layer(heat_layer)\n",
    "\n",
    "# Display figure\n",
    "fig"
   ]
  },
  {
   "cell_type": "code",
   "execution_count": 4,
   "metadata": {},
   "outputs": [
    {
     "data": {
      "text/html": [
       "<div>\n",
       "<style scoped>\n",
       "    .dataframe tbody tr th:only-of-type {\n",
       "        vertical-align: middle;\n",
       "    }\n",
       "\n",
       "    .dataframe tbody tr th {\n",
       "        vertical-align: top;\n",
       "    }\n",
       "\n",
       "    .dataframe thead th {\n",
       "        text-align: right;\n",
       "    }\n",
       "</style>\n",
       "<table border=\"1\" class=\"dataframe\">\n",
       "  <thead>\n",
       "    <tr style=\"text-align: right;\">\n",
       "      <th></th>\n",
       "      <th>Lat</th>\n",
       "      <th>Lng</th>\n",
       "      <th>City Name</th>\n",
       "      <th>Country Code</th>\n",
       "      <th>Temp</th>\n",
       "      <th>Humidity</th>\n",
       "      <th>Clouds</th>\n",
       "      <th>Wind</th>\n",
       "      <th>Date</th>\n",
       "    </tr>\n",
       "  </thead>\n",
       "  <tbody>\n",
       "    <tr>\n",
       "      <th>5</th>\n",
       "      <td>25.93</td>\n",
       "      <td>81.98</td>\n",
       "      <td>bela</td>\n",
       "      <td>pk</td>\n",
       "      <td>78.19</td>\n",
       "      <td>71.0</td>\n",
       "      <td>0.0</td>\n",
       "      <td>1.88</td>\n",
       "      <td>1.601248e+09</td>\n",
       "    </tr>\n",
       "    <tr>\n",
       "      <th>57</th>\n",
       "      <td>-17.71</td>\n",
       "      <td>-39.25</td>\n",
       "      <td>caravelas</td>\n",
       "      <td>br</td>\n",
       "      <td>73.24</td>\n",
       "      <td>81.0</td>\n",
       "      <td>0.0</td>\n",
       "      <td>7.92</td>\n",
       "      <td>1.601248e+09</td>\n",
       "    </tr>\n",
       "    <tr>\n",
       "      <th>80</th>\n",
       "      <td>-27.80</td>\n",
       "      <td>-64.26</td>\n",
       "      <td>santiago del estero</td>\n",
       "      <td>ar</td>\n",
       "      <td>70.29</td>\n",
       "      <td>25.0</td>\n",
       "      <td>0.0</td>\n",
       "      <td>8.93</td>\n",
       "      <td>1.601248e+09</td>\n",
       "    </tr>\n",
       "    <tr>\n",
       "      <th>163</th>\n",
       "      <td>30.48</td>\n",
       "      <td>-115.95</td>\n",
       "      <td>san quintin</td>\n",
       "      <td>mx</td>\n",
       "      <td>73.49</td>\n",
       "      <td>65.0</td>\n",
       "      <td>0.0</td>\n",
       "      <td>7.76</td>\n",
       "      <td>1.601248e+09</td>\n",
       "    </tr>\n",
       "    <tr>\n",
       "      <th>351</th>\n",
       "      <td>34.93</td>\n",
       "      <td>43.49</td>\n",
       "      <td>bayji</td>\n",
       "      <td>iq</td>\n",
       "      <td>78.24</td>\n",
       "      <td>28.0</td>\n",
       "      <td>0.0</td>\n",
       "      <td>7.34</td>\n",
       "      <td>1.601248e+09</td>\n",
       "    </tr>\n",
       "  </tbody>\n",
       "</table>\n",
       "</div>"
      ],
      "text/plain": [
       "       Lat     Lng            City Name Country Code   Temp  Humidity  Clouds  \\\n",
       "5    25.93   81.98                 bela           pk  78.19      71.0     0.0   \n",
       "57  -17.71  -39.25            caravelas           br  73.24      81.0     0.0   \n",
       "80  -27.80  -64.26  santiago del estero           ar  70.29      25.0     0.0   \n",
       "163  30.48 -115.95          san quintin           mx  73.49      65.0     0.0   \n",
       "351  34.93   43.49                bayji           iq  78.24      28.0     0.0   \n",
       "\n",
       "     Wind          Date  \n",
       "5    1.88  1.601248e+09  \n",
       "57   7.92  1.601248e+09  \n",
       "80   8.93  1.601248e+09  \n",
       "163  7.76  1.601248e+09  \n",
       "351  7.34  1.601248e+09  "
      ]
     },
     "execution_count": 4,
     "metadata": {},
     "output_type": "execute_result"
    }
   ],
   "source": [
    "#narrow down the dataframe to ideal conditions\n",
    "ideal = citylist_clean.loc[(citylist_clean['Temp']<80) & (citylist_clean['Temp']>70) & (citylist_clean['Wind']<10) & (citylist_clean['Clouds']==0.0)]\n",
    "ideal.head()"
   ]
  },
  {
   "cell_type": "markdown",
   "metadata": {},
   "source": [
    "### Create new DataFrame fitting weather criteria\n",
    "* Narrow down the cities to fit weather conditions.\n",
    "* Drop any rows will null values."
   ]
  },
  {
   "cell_type": "code",
   "execution_count": 5,
   "metadata": {},
   "outputs": [
    {
     "data": {
      "text/plain": [
       "6"
      ]
     },
     "execution_count": 5,
     "metadata": {},
     "output_type": "execute_result"
    }
   ],
   "source": [
    "hotel_df = ideal\n",
    "len(hotel_df)"
   ]
  },
  {
   "cell_type": "markdown",
   "metadata": {},
   "source": [
    "### Hotel Map\n",
    "* Store into variable named `hotel_df`.\n",
    "* Add a \"Hotel Name\" column to the DataFrame.\n",
    "* Set parameters to search for hotels with 5000 meters.\n",
    "* Hit the Google Places API for each city's coordinates.\n",
    "* Store the first Hotel result into the DataFrame.\n",
    "* Plot markers on top of the heatmap."
   ]
  },
  {
   "cell_type": "code",
   "execution_count": 8,
   "metadata": {},
   "outputs": [
    {
     "name": "stderr",
     "output_type": "stream",
     "text": [
      "C:\\Users\\mennbou\\Anaconda3\\envs\\pythondata\\lib\\site-packages\\ipykernel_launcher.py:9: SettingWithCopyWarning: \n",
      "A value is trying to be set on a copy of a slice from a DataFrame.\n",
      "Try using .loc[row_indexer,col_indexer] = value instead\n",
      "\n",
      "See the caveats in the documentation: https://pandas.pydata.org/pandas-docs/stable/user_guide/indexing.html#returning-a-view-versus-a-copy\n",
      "  if __name__ == '__main__':\n"
     ]
    },
    {
     "name": "stdout",
     "output_type": "stream",
     "text": [
      "Retrieving Results for bela.\n",
      "25.93,81.98\n",
      "Jameel Khan & Services\n",
      "------------\n",
      "Retrieving Results for caravelas.\n"
     ]
    },
    {
     "name": "stderr",
     "output_type": "stream",
     "text": [
      "C:\\Users\\mennbou\\Anaconda3\\envs\\pythondata\\lib\\site-packages\\pandas\\core\\indexing.py:966: SettingWithCopyWarning: \n",
      "A value is trying to be set on a copy of a slice from a DataFrame.\n",
      "Try using .loc[row_indexer,col_indexer] = value instead\n",
      "\n",
      "See the caveats in the documentation: https://pandas.pydata.org/pandas-docs/stable/user_guide/indexing.html#returning-a-view-versus-a-copy\n",
      "  self.obj[item] = s\n"
     ]
    },
    {
     "name": "stdout",
     "output_type": "stream",
     "text": [
      "-17.71,-39.25\n",
      "Mateus' S/A\n",
      "------------\n",
      "Retrieving Results for santiago del estero.\n",
      "-27.8,-64.26\n",
      "Hotel Nuevo America\n",
      "------------\n",
      "Retrieving Results for san quintin.\n",
      "30.48,-115.95\n",
      "Refugio para mascotas Good Boy A. C.\n",
      "------------\n",
      "Retrieving Results for bayji.\n",
      "34.93,43.49\n",
      "مدرسة بيجي الابتدائية للبنات\n",
      "------------\n",
      "Retrieving Results for gat.\n",
      "31.61,34.76\n",
      "שדרות גת 88 קרית גת\n",
      "------------\n"
     ]
    }
   ],
   "source": [
    "base_url = \"https://maps.googleapis.com/maps/api/place/nearbysearch/json\"\n",
    "params = {\n",
    "    \"location\": \"\",  \n",
    "    \"rankby\": \"distance\",\n",
    "    \"type\": \"hotel\",\n",
    "    \"key\": g_key,\n",
    "}\n",
    "# use iterrows to iterate through pandas dataframe\n",
    "hotel_df['Hotel Name']=\"\"\n",
    "for x in range(len(hotel_df)):\n",
    "    \n",
    "    lat=hotel_df.iloc[x,0] \n",
    "    lng=hotel_df.iloc[x,1]\n",
    "    params['location']=f\"{lat},{lng}\"\n",
    "    # assemble url and make API request\n",
    "    print(f\"Retrieving Results for {hotel_df.iloc[x, 2]}.\")\n",
    "    response = requests.get(base_url, params=params).json()\n",
    "    print(params['location'])\n",
    "    # extract results\n",
    "    \n",
    "    \n",
    "    try:\n",
    "        results = response['results'][0]['name']\n",
    "        print(results)\n",
    "        hotel_df.iloc[x, 9] = results\n",
    "                \n",
    "    except (KeyError, IndexError):\n",
    "        print(\"Missing field/result... skipping.\")\n",
    "        \n",
    "    print(\"------------\") "
   ]
  },
  {
   "cell_type": "code",
   "execution_count": 9,
   "metadata": {},
   "outputs": [
    {
     "data": {
      "text/html": [
       "<div>\n",
       "<style scoped>\n",
       "    .dataframe tbody tr th:only-of-type {\n",
       "        vertical-align: middle;\n",
       "    }\n",
       "\n",
       "    .dataframe tbody tr th {\n",
       "        vertical-align: top;\n",
       "    }\n",
       "\n",
       "    .dataframe thead th {\n",
       "        text-align: right;\n",
       "    }\n",
       "</style>\n",
       "<table border=\"1\" class=\"dataframe\">\n",
       "  <thead>\n",
       "    <tr style=\"text-align: right;\">\n",
       "      <th></th>\n",
       "      <th>Lat</th>\n",
       "      <th>Lng</th>\n",
       "      <th>City Name</th>\n",
       "      <th>Country Code</th>\n",
       "      <th>Temp</th>\n",
       "      <th>Humidity</th>\n",
       "      <th>Clouds</th>\n",
       "      <th>Wind</th>\n",
       "      <th>Date</th>\n",
       "      <th>Hotel Name</th>\n",
       "    </tr>\n",
       "  </thead>\n",
       "  <tbody>\n",
       "    <tr>\n",
       "      <th>5</th>\n",
       "      <td>25.93</td>\n",
       "      <td>81.98</td>\n",
       "      <td>bela</td>\n",
       "      <td>pk</td>\n",
       "      <td>78.19</td>\n",
       "      <td>71.0</td>\n",
       "      <td>0.0</td>\n",
       "      <td>1.88</td>\n",
       "      <td>1.601248e+09</td>\n",
       "      <td>Jameel Khan &amp; Services</td>\n",
       "    </tr>\n",
       "    <tr>\n",
       "      <th>57</th>\n",
       "      <td>-17.71</td>\n",
       "      <td>-39.25</td>\n",
       "      <td>caravelas</td>\n",
       "      <td>br</td>\n",
       "      <td>73.24</td>\n",
       "      <td>81.0</td>\n",
       "      <td>0.0</td>\n",
       "      <td>7.92</td>\n",
       "      <td>1.601248e+09</td>\n",
       "      <td>Mateus' S/A</td>\n",
       "    </tr>\n",
       "    <tr>\n",
       "      <th>80</th>\n",
       "      <td>-27.80</td>\n",
       "      <td>-64.26</td>\n",
       "      <td>santiago del estero</td>\n",
       "      <td>ar</td>\n",
       "      <td>70.29</td>\n",
       "      <td>25.0</td>\n",
       "      <td>0.0</td>\n",
       "      <td>8.93</td>\n",
       "      <td>1.601248e+09</td>\n",
       "      <td>Hotel Nuevo America</td>\n",
       "    </tr>\n",
       "    <tr>\n",
       "      <th>163</th>\n",
       "      <td>30.48</td>\n",
       "      <td>-115.95</td>\n",
       "      <td>san quintin</td>\n",
       "      <td>mx</td>\n",
       "      <td>73.49</td>\n",
       "      <td>65.0</td>\n",
       "      <td>0.0</td>\n",
       "      <td>7.76</td>\n",
       "      <td>1.601248e+09</td>\n",
       "      <td>Refugio para mascotas Good Boy A. C.</td>\n",
       "    </tr>\n",
       "    <tr>\n",
       "      <th>351</th>\n",
       "      <td>34.93</td>\n",
       "      <td>43.49</td>\n",
       "      <td>bayji</td>\n",
       "      <td>iq</td>\n",
       "      <td>78.24</td>\n",
       "      <td>28.0</td>\n",
       "      <td>0.0</td>\n",
       "      <td>7.34</td>\n",
       "      <td>1.601248e+09</td>\n",
       "      <td>مدرسة بيجي الابتدائية للبنات</td>\n",
       "    </tr>\n",
       "    <tr>\n",
       "      <th>396</th>\n",
       "      <td>31.61</td>\n",
       "      <td>34.76</td>\n",
       "      <td>gat</td>\n",
       "      <td>ly</td>\n",
       "      <td>79.00</td>\n",
       "      <td>77.0</td>\n",
       "      <td>0.0</td>\n",
       "      <td>8.30</td>\n",
       "      <td>1.601248e+09</td>\n",
       "      <td>שדרות גת 88 קרית גת</td>\n",
       "    </tr>\n",
       "  </tbody>\n",
       "</table>\n",
       "</div>"
      ],
      "text/plain": [
       "       Lat     Lng            City Name Country Code   Temp  Humidity  Clouds  \\\n",
       "5    25.93   81.98                 bela           pk  78.19      71.0     0.0   \n",
       "57  -17.71  -39.25            caravelas           br  73.24      81.0     0.0   \n",
       "80  -27.80  -64.26  santiago del estero           ar  70.29      25.0     0.0   \n",
       "163  30.48 -115.95          san quintin           mx  73.49      65.0     0.0   \n",
       "351  34.93   43.49                bayji           iq  78.24      28.0     0.0   \n",
       "396  31.61   34.76                  gat           ly  79.00      77.0     0.0   \n",
       "\n",
       "     Wind          Date                            Hotel Name  \n",
       "5    1.88  1.601248e+09                Jameel Khan & Services  \n",
       "57   7.92  1.601248e+09                           Mateus' S/A  \n",
       "80   8.93  1.601248e+09                   Hotel Nuevo America  \n",
       "163  7.76  1.601248e+09  Refugio para mascotas Good Boy A. C.  \n",
       "351  7.34  1.601248e+09          مدرسة بيجي الابتدائية للبنات  \n",
       "396  8.30  1.601248e+09                   שדרות גת 88 קרית גת  "
      ]
     },
     "execution_count": 9,
     "metadata": {},
     "output_type": "execute_result"
    }
   ],
   "source": [
    "hotel_df.head(6)"
   ]
  },
  {
   "cell_type": "code",
   "execution_count": 10,
   "metadata": {},
   "outputs": [],
   "source": [
    "# NOTE: Do not change any of the code in this cell\n",
    "\n",
    "# Using the template add the hotel marks to the heatmap\n",
    "info_box_template = \"\"\"\n",
    "<dl>\n",
    "<dt>Name</dt><dd>{Hotel Name}</dd>\n",
    "<dt>City</dt><dd>{City Name}</dd>\n",
    "<dt>Country</dt><dd>{Country Code}</dd>\n",
    "</dl>\n",
    "\"\"\"\n",
    "# Store the DataFrame Row\n",
    "# NOTE: be sure to update with your DataFrame name\n",
    "hotel_info = [info_box_template.format(**row) for index, row in hotel_df.iterrows()]\n",
    "locations_2 = hotel_df[[\"Lat\", \"Lng\"]]"
   ]
  },
  {
   "cell_type": "code",
   "execution_count": 11,
   "metadata": {},
   "outputs": [
    {
     "data": {
      "application/vnd.jupyter.widget-view+json": {
       "model_id": "1eba23b64c474d33b0dcf22a4d440869",
       "version_major": 2,
       "version_minor": 0
      },
      "text/plain": [
       "Figure(layout=FigureLayout(height='420px'))"
      ]
     },
     "metadata": {},
     "output_type": "display_data"
    }
   ],
   "source": [
    "# Add marker layer ontop of heat map\n",
    "locations = citylist_clean[['Lat', 'Lng']]\n",
    "\n",
    "humidity = citylist_clean['Humidity']\n",
    "\n",
    "gmaps.configure(api_key=g_key)\n",
    "# Plot Heatmap\n",
    "fig = gmaps.figure()\n",
    "\n",
    "# Create heat layer\n",
    "heat_layer = gmaps.heatmap_layer(locations, weights=humidity, point_radius=20)\n",
    "\n",
    "markers = gmaps.marker_layer(locations_2,\n",
    "    info_box_content=[f\"Hotel Name: {x}\" for x in hotel_info])\n",
    "fig.add_layer(markers)                               \n",
    "\n",
    "\n",
    "# Add layer\n",
    "fig.add_layer(heat_layer)\n",
    "\n",
    "# Display figure\n",
    "fig\n",
    "\n",
    "# Display figure\n"
   ]
  },
  {
   "cell_type": "code",
   "execution_count": null,
   "metadata": {},
   "outputs": [],
   "source": []
  }
 ],
 "metadata": {
  "kernelspec": {
   "display_name": "Python 3",
   "language": "python",
   "name": "python3"
  },
  "language_info": {
   "codemirror_mode": {
    "name": "ipython",
    "version": 3
   },
   "file_extension": ".py",
   "mimetype": "text/x-python",
   "name": "python",
   "nbconvert_exporter": "python",
   "pygments_lexer": "ipython3",
   "version": "3.6.10"
  },
  "latex_envs": {
   "LaTeX_envs_menu_present": true,
   "autoclose": false,
   "autocomplete": true,
   "bibliofile": "biblio.bib",
   "cite_by": "apalike",
   "current_citInitial": 1,
   "eqLabelWithNumbers": true,
   "eqNumInitial": 1,
   "hotkeys": {
    "equation": "Ctrl-E",
    "itemize": "Ctrl-I"
   },
   "labels_anchors": false,
   "latex_user_defs": false,
   "report_style_numbering": false,
   "user_envs_cfg": false
  }
 },
 "nbformat": 4,
 "nbformat_minor": 4
}
